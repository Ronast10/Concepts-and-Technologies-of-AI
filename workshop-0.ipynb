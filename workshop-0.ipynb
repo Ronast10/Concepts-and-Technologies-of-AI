{
 "cells": [
  {
   "cell_type": "code",
   "execution_count": 2,
   "id": "d13df281-e3e8-4a2e-9d58-30973b691d69",
   "metadata": {},
   "outputs": [
    {
     "name": "stdout",
     "output_type": "stream",
     "text": [
      "Hello, World!\n",
      "Python version: 3.13.0 (tags/v3.13.0:60403a5, Oct  7 2024, 09:38:07) [MSC v.1941 64 bit (AMD64)]\n"
     ]
    }
   ],
   "source": [
    "import sys\n",
    "# Check Python version\n",
    "if sys.version_info.major == 3 and sys.version_info.minor >= 6:\n",
    "    print(\"Hello, World!\")\n",
    "    print(f\"Python version: {sys.version}\")\n",
    "else:\n",
    "    print(\"Please use Python 3.6 or higher.\")"
   ]
  },
  {
   "cell_type": "code",
   "execution_count": 3,
   "id": "91e50a6e-9186-4d8f-9c54-d1927586adec",
   "metadata": {},
   "outputs": [
    {
     "name": "stdout",
     "output_type": "stream",
     "text": [
      "Cold temperatures: [5, 9, 7]\n",
      "Mild temperatures: [12, 14, 10]\n",
      "Comfortable temperatures: [17, 18, 15]\n"
     ]
    }
   ],
   "source": [
    "# Task 1. Classify Temperatures:\n",
    "# List of temperatures\n",
    "temperatures = [5, 12, 17, 9, 14, 20, 18, 7, 10, 15]\n",
    "cold = []\n",
    "mild = []  \n",
    "comfortable = []\n",
    "for temp in temperatures:\n",
    "    if temp < 10:\n",
    "        cold.append(temp)\n",
    "    elif 10 <= temp < 15:\n",
    "        mild.append(temp)\n",
    "    elif 15 <= temp < 20:\n",
    "        comfortable.append(temp)\n",
    "# Print\n",
    "print(\"Cold temperatures:\", cold)\n",
    "print(\"Mild temperatures:\", mild)\n",
    "print(\"Comfortable temperatures:\", comfortable)"
   ]
  },
  {
   "cell_type": "code",
   "execution_count": 4,
   "id": "c371c331-9e95-4ead-91f4-838655613183",
   "metadata": {},
   "outputs": [
    {
     "name": "stdout",
     "output_type": "stream",
     "text": [
      "How many times was it cold? 3\n",
      "How many times was it mild? 3\n",
      "How many times was it comfortable? 3\n"
     ]
    }
   ],
   "source": [
    "#Task 2\n",
    "temperatures = [5, 12, 17, 9, 14, 20, 18, 7, 10, 15]\n",
    "cold = [temp for temp in temperatures if temp < 10]\n",
    "mild = [temp for temp in temperatures if 10 <= temp < 15]\n",
    "comfortable = [temp for temp in temperatures if 15 <= temp < 20]\n",
    "\n",
    "cold_count = len(cold)\n",
    "mild_count = len(mild)\n",
    "comfortable_count = len(comfortable)\n",
    "\n",
    "print(\"How many times was it cold?\", cold_count)\n",
    "print(\"How many times was it mild?\", mild_count)\n",
    "print(\"How many times was it comfortable?\", comfortable_count)"
   ]
  },
  {
   "cell_type": "code",
   "execution_count": null,
   "id": "4402d0da-6938-45cd-9f79-231631c43791",
   "metadata": {},
   "outputs": [],
   "source": [
    "#Task 3. Convert Temperatures from Celsius to Fahrenheit\n",
    "\n",
    "Using the formula for temperature conversion, convert each reading from Celsius to Fahren-\n",
    "heit and store it in a new list called temperatures_fahrenheit.\n",
    "\n",
    "Formula: Fahrenheit = (Celsius ×\n",
    "9\n",
    "5\n",
    ") + 32"
   ]
  },
  {
   "cell_type": "code",
   "execution_count": 5,
   "id": "a677ea4f-8dce-4a98-a3c2-b5f669b1dfc6",
   "metadata": {},
   "outputs": [
    {
     "name": "stdout",
     "output_type": "stream",
     "text": [
      "Temperatures in Fahrenheit: [41.0, 53.6, 62.6, 48.2, 57.2, 68.0, 64.4, 44.6, 50.0, 59.0]\n"
     ]
    }
   ],
   "source": [
    "temperatures = [5, 12, 17, 9, 14, 20, 18, 7, 10, 15]\n",
    "\n",
    "#Using formula\n",
    "temperatures_fahrenheit = [(temp * 9 / 5) + 32 for temp in temperatures]\n",
    "print(\"Temperatures in Fahrenheit:\", temperatures_fahrenheit)"
   ]
  },
  {
   "cell_type": "code",
   "execution_count": null,
   "id": "c0e03e2e-9d66-4217-8906-016dbc383e50",
   "metadata": {},
   "outputs": [],
   "source": [
    "#Task 4. Analyze Temperature Patterns by Time of Day:\n",
    "Scenario: Each day’s readings are grouped as:\n",
    "• Night (00-08),\n",
    "• Evening (08-16),\n",
    "• Day (16-24).\n",
    "1. Create empty lists for night, day, and evening temperatures.\n",
    "2. Iterate over the temperatures list, assigning values to each time-of-day list based on\n",
    "their position.\n",
    "3. Calculate and print the average day-time temperature.\n",
    "4. (Optional) Plot ”day vs. temperature” using matplotlib."
   ]
  },
  {
   "cell_type": "code",
   "execution_count": 7,
   "id": "72638400-1755-4ad1-bb0e-2186ba887674",
   "metadata": {},
   "outputs": [
    {
     "name": "stdout",
     "output_type": "stream",
     "text": [
      "Night temperatures: [5, 7, 6, 4, 3, 8, 9, 7]\n",
      "Evening temperatures: [12, 15, 14, 11, 13, 10, 14, 12]\n",
      "Day temperatures: [18, 19, 20, 17, 16, 21, 20, 19]\n",
      "Average daytime temperature: 18.75°C\n"
     ]
    }
   ],
   "source": [
    "temperatures = [5, 7, 6, 4, 3, 8, 9, 7, 12, 15, 14, 11, 13, 10, 14, 12, 18, 19, 20, 17, 16, 21, 20, 19]\n",
    "\n",
    "# Splitting temperatures into time-of-day groups\n",
    "night = temperatures[0:8]\n",
    "evening = temperatures[8:16]\n",
    "day = temperatures[16:24]\n",
    "\n",
    "# Calculating the average day-time temperature\n",
    "average_day_temperature = sum(day) / len(day)\n",
    "\n",
    "print(\"Night temperatures:\", night)\n",
    "print(\"Evening temperatures:\", evening)\n",
    "print(\"Day temperatures:\", day)\n",
    "print(f\"Average daytime temperature: {average_day_temperature:.2f}°C\")\n"
   ]
  },
  {
   "cell_type": "code",
   "execution_count": null,
   "id": "a01ba747-c3cc-4158-9d3d-19279108dc6b",
   "metadata": {},
   "outputs": [],
   "source": [
    "#Exercise - Recursion:\n",
    "Task 1 - Sum of Nested Lists:\n",
    "Scenario: You have a list that contains numbers and other lists of numbers (nested lists).\n",
    "You want to find the total sum of all the numbers in this structure.\n",
    "Task:\n",
    "• Write a recursive function sum_nested_list(nested_list) that:\n",
    "1. Takes a nested list (a list that can contain numbers or other lists of numbers) as\n",
    "input.\n",
    "2. Sums all numbers at every depth level of the list, regardless of how deeply nested\n",
    "the numbers are.\n",
    "• Test the function with a sample nested list, such as\n",
    "nested_list = [1, [2, [3, 4], 5], 6, [7, 8]].\n",
    "The result should be the total sum of all the numbers."
   ]
  },
  {
   "cell_type": "code",
   "execution_count": 8,
   "id": "964f019a-64a6-4bd2-9953-087d8b6ee5d2",
   "metadata": {},
   "outputs": [
    {
     "name": "stdout",
     "output_type": "stream",
     "text": [
      "Sum of [1, [2, [3, 4], 5], 6, [7, 8]]: 36\n",
      "Sum of [1, [2, 3], [4, [5]]]: 15\n"
     ]
    }
   ],
   "source": [
    "def sum_nested_list(nested_list):\n",
    "    \"\"\"\n",
    "    Calculate the sum of all numbers in a nested list.\n",
    "    This function takes a list that may contain integers and other nested lists.\n",
    "    It recursively traverses the list and sums all the integers, no matter how deeply\n",
    "    nested they are.\n",
    "    Args:\n",
    "        nested_list (list): A list that may contain integers or other lists of integers.\n",
    "    Returns:\n",
    "        int: The total sum of all integers in the nested list, including those in sublists.\n",
    "    \"\"\"\n",
    "    total = 0\n",
    "    for element in nested_list:\n",
    "        if isinstance(element, list):  # Check if the element is a list\n",
    "            total += sum_nested_list(element)  # Recursively sum the nested list\n",
    "        else:\n",
    "            total += element  # Add the number to the total\n",
    "    return total\n",
    "# Testing the function with example nested lists\n",
    "nested_list_1 = [1, [2, [3, 4], 5], 6, [7, 8]]\n",
    "nested_list_2 = [1, [2, 3], [4, [5]]]\n",
    "\n",
    "print(f\"Sum of {nested_list_1}: {sum_nested_list(nested_list_1)}\")\n",
    "print(f\"Sum of {nested_list_2}: {sum_nested_list(nested_list_2)}\")"
   ]
  },
  {
   "cell_type": "code",
   "execution_count": null,
   "id": "84013c20-eb53-45c3-8b40-a65d9644fa86",
   "metadata": {},
   "outputs": [],
   "source": [
    "#Task 2 - Generate All Permutations of a String:\n",
    "Scenario: Given a string, generate all possible permutations of its characters. This is useful\n",
    "for understanding backtracking and recursive depth-first search.\n",
    "Task:\n",
    "• Write a recursive function generate_permutations(s) that:\n",
    "– Takes a string s as input and returns a list of all unique permutations.\n",
    "• Test with strings like ”abc” and ”aab”.\n",
    "\n",
    "print(generate_permutations(\"abc\"))\n",
    "# Should return [’abc’, ’acb’, ’bac’, ’bca’, ’cab’, ’cba’]"
   ]
  },
  {
   "cell_type": "code",
   "execution_count": 9,
   "id": "76640284-6206-4125-b8d0-339c55a5081e",
   "metadata": {},
   "outputs": [
    {
     "name": "stdout",
     "output_type": "stream",
     "text": [
      "['abc', 'acb', 'bac', 'bca', 'cab', 'cba']\n",
      "['aab', 'aba', 'baa']\n"
     ]
    }
   ],
   "source": [
    "def generate_permutations(s):\n",
    "    \"\"\"\n",
    "    Generate all unique permutations of a given string. \n",
    "    Args:\n",
    "        s (str): The input string.        \n",
    "    Returns:\n",
    "        list: A list containing all unique permutations of the string.       \n",
    "    Example:\n",
    "        >>> generate_permutations(\"abc\")\n",
    "        ['abc', 'acb', 'bac', 'bca', 'cab', 'cba']\n",
    "        >>> generate_permutations(\"aab\")\n",
    "        ['aab', 'aba', 'baa']\n",
    "    \"\"\"\n",
    "    if len(s) <= 1:\n",
    "        return [s]\n",
    "    permutations = set()\n",
    "\n",
    "    for i, char in enumerate(s):\n",
    "        remaining = s[:i] + s[i+1:]\n",
    "        for perm in generate_permutations(remaining):\n",
    "            permutations.add(char + perm)\n",
    "\n",
    "    return list(permutations)\n",
    "print(sorted(generate_permutations(\"abc\")))  # Should return ['abc', 'acb', 'bac', 'bca', 'cab', 'cba']\n",
    "print(sorted(generate_permutations(\"aab\")))  # Should return ['aab', 'aba', 'baa']\n"
   ]
  },
  {
   "cell_type": "code",
   "execution_count": null,
   "id": "900ae40b-c93e-4403-af5b-c7cee54d67ca",
   "metadata": {},
   "outputs": [],
   "source": [
    "#Task 3 - Directory Size Calculation:\n",
    "Directory Size Calculation Scenario: Imagine a file system where directories can contain files\n",
    "(with sizes in KB) and other directories. You want to calculate the total size of a directory,\n",
    "including all nested files and subdirectories.\n",
    "\n",
    "Sample directory structure.\n",
    "\n",
    "# Sample directory structure\n",
    "directory_structure = {\n",
    "\"file1.txt\": 200,\n",
    "\"file2.txt\": 300,\n",
    "\"subdir1\": {\n",
    "\"file3.txt\": 400,\n",
    "\"file4.txt\": 100\n",
    "},\n",
    "\"subdir2\": {\n",
    "\"subsubdir1\": {\n",
    "\"file5.txt\": 250\n",
    "},\n",
    "\n",
    "19\n",
    "\n",
    "5CS037 Worksheet - 0 Siman Giri\n",
    "\n",
    "\"file6.txt\": 150\n",
    "}\n",
    "}\n",
    "Task:\n",
    "1. Write a recursive function calculate_directory_size(directory) where:\n",
    "• directory is a dictionary where keys represent file names (with values as sizes in\n",
    "\n",
    "KB) or directory names (with values as another dictionary representing a subdi-\n",
    "rectory).\n",
    "\n",
    "• The function should return the total size of the directory, including all nested\n",
    "subdirectories.\n",
    "2. Test the function with a sample directory structure."
   ]
  },
  {
   "cell_type": "code",
   "execution_count": 10,
   "id": "adda0912-982d-4ecd-97f2-d2f9228cb7cd",
   "metadata": {},
   "outputs": [
    {
     "name": "stdout",
     "output_type": "stream",
     "text": [
      "Total directory size: 1400 KB\n"
     ]
    }
   ],
   "source": [
    "def calculate_directory_size(directory):\n",
    "    \"\"\"\n",
    "    Recursively calculates the total size of a directory, including its files and nested subdirectories. \n",
    "    Args:\n",
    "        directory (dict): A dictionary representing the directory structure.        \n",
    "    Returns:\n",
    "        int: The total size of the directory in KB.\n",
    "    \"\"\"\n",
    "    total_size = 0\n",
    "    for item in directory.values():\n",
    "        if isinstance(item, dict):\n",
    "            # If the item is a subdirectory, recursively calculate its size\n",
    "            total_size += calculate_directory_size(item)\n",
    "        else:\n",
    "            # If the item is a file, add its size to the total\n",
    "            total_size += item\n",
    "    \n",
    "    return total_size\n",
    "directory_structure = {\n",
    "    \"file1.txt\": 200,\n",
    "    \"file2.txt\": 300,\n",
    "    \"subdir1\": {\n",
    "        \"file3.txt\": 400,\n",
    "        \"file4.txt\": 100\n",
    "    },\n",
    "    \"subdir2\": {\n",
    "        \"subsubdir1\": {\n",
    "            \"file5.txt\": 250\n",
    "        },\n",
    "        \"file6.txt\": 150\n",
    "    }\n",
    "}\n",
    "print(f\"Total directory size: {calculate_directory_size(directory_structure)} KB\")\n"
   ]
  },
  {
   "cell_type": "code",
   "execution_count": null,
   "id": "6e1f4278-0859-4210-a5c1-f93ca3caf91c",
   "metadata": {},
   "outputs": [],
   "source": [
    "#Exercises - Dynamic Programming:\n",
    "Task 1 - Coin Change Problem:\n",
    "Scenario: Given a set of coin denominations and a target amount, find the minimum number\n",
    "of coins needed to make the amount. If it’s not possible, return - 1.\n",
    "Task:\n",
    "1. Write a function min_coins(coins, amount) that:\n",
    "• Uses DP to calculate the minimum number of coins needed to make up the\n",
    "amount.\n",
    "2. Test with coins = [1, 2, 5] and amount = 11. The result should be 3 (using coins\n",
    "[5, 5, 1])."
   ]
  },
  {
   "cell_type": "code",
   "execution_count": 11,
   "id": "449ef981-4ba8-41b8-8a4b-b8b89a13be8f",
   "metadata": {},
   "outputs": [
    {
     "name": "stdout",
     "output_type": "stream",
     "text": [
      "3\n"
     ]
    }
   ],
   "source": [
    "def min_coins(coins, amount):\n",
    "    \"\"\"\n",
    "    Find the minimum number of coins needed to make up a given amount using dynamic programming.   \n",
    "    Args:\n",
    "        coins (list of int): A list of coin denominations available for making change. Each coin denomination is a positive integer.\n",
    "        amount (int): The target amount for which we need to find the minimum number of coins. It must be a non-negative integer.        \n",
    "    Returns:\n",
    "        int: The minimum number of coins required to make the given amount. \n",
    "             If it is not possible to make the amount with the given coins, returns -1.    \n",
    "    Example:\n",
    "        >>> min_coins([1, 2, 5], 11)\n",
    "        3\n",
    "        >>> min_coins([2], 3)\n",
    "        -1\n",
    "    \"\"\"\n",
    "    dp = [float('inf')] * (amount + 1)\n",
    "    dp[0] = 0  # Base case: 0 coins needed to make amount 0\n",
    "\n",
    "    for coin in coins:\n",
    "        # Update the DP table for each amount that can be made with the current coin\n",
    "        for i in range(coin, amount + 1):\n",
    "            dp[i] = min(dp[i], dp[i - coin] + 1)\n",
    "    \n",
    "    # If dp[amount] is still infinity, it means it's not possible to make the amount with the given coins\n",
    "    return dp[amount] if dp[amount] != float('inf') else -1\n",
    "print(min_coins([1, 2, 5], 11))  # Expected output: 3 (using coins [5, 5, 1])\n"
   ]
  },
  {
   "cell_type": "code",
   "execution_count": null,
   "id": "6fbcdee8-c609-46a8-aba1-82c0a861691b",
   "metadata": {},
   "outputs": [],
   "source": [
    "Task 2 - Longest Common Subsequence (LCS):\n",
    "Scenario: Given two strings, find the length of their longest common subsequence (LCS).\n",
    "This is useful in text comparison.\n",
    "Task:\n",
    "1. Write a function longest_common_subsequence(s1, s2) that:\n",
    "• Uses DP to find the length of the LCS of two strings s1 and s2.\n",
    "2. Test with strings like \"abcde\" and \"ace\"; the LCS length should be 3 (\"ace\")."
   ]
  },
  {
   "cell_type": "code",
   "execution_count": null,
   "id": "a0c980d3",
   "metadata": {},
   "outputs": [],
   "source": [
    "def longest_common_subsequence(s1, s2):\n",
    "    \"\"\"\n",
    "    Finds the length of the longest common subsequence (LCS) of two strings using dynamic programming.\n",
    "    Args:\n",
    "        s1 (str): The first string.\n",
    "        s2 (str): The second string.\n",
    "    Returns:\n",
    "        int: The length of the LCS.\n",
    "\n",
    "    Example:\n",
    "        >>> longest_common_subsequence(\"abcde\", \"ace\")\n",
    "        3\n",
    "    \"\"\"\n",
    "    m, n = len(s1), len(s2)\n",
    "    \n",
    "    dp = [[0] * (n + 1) for _ in range(m + 1)]\n",
    "   \n",
    "    for i in range(1, m + 1):\n",
    "        for j in range(1, n + 1):\n",
    "            if s1[i - 1] == s2[j - 1]:  # Characters match\n",
    "                dp[i][j] = dp[i - 1][j - 1] + 1\n",
    "            else:  # Characters do not match\n",
    "                dp[i][j] = max(dp[i - 1][j], dp[i][j - 1])\n",
    "    \n",
    "    return dp[m][n]\n",
    "\n",
    "print(longest_common_subsequence(\"abcde\", \"ace\"))  # Expected output: 3 (\"ace\")\n"
   ]
  },
  {
   "cell_type": "code",
   "execution_count": null,
   "id": "84103af8",
   "metadata": {},
   "outputs": [],
   "source": [
    "Task 3 - 0/1 Knapsack Problem:\n",
    "Scenario: You have a list of items, each with a weight and a value. Given a weight capacity,\n",
    "maximize the total value of items you can carry without exceeding the weight capacity.\n",
    "Task:\n",
    "1. Write a function knapsack(weights, values, capacity) that:\n",
    "• Uses DP to determine the maximum value that can be achieved within the given\n",
    "weight capacity.\n",
    "\n",
    "2. Test with weights [1, 3, 4, 5], values [1, 4, 5, 7], and capacity 7. The re-\n",
    "sult should be 9."
   ]
  },
  {
   "cell_type": "code",
   "execution_count": null,
   "id": "0c72f3f0",
   "metadata": {},
   "outputs": [],
   "source": [
    "def knapsack(weights, values, capacity):\n",
    "    \"\"\"\n",
    "    Solves the 0/1 Knapsack Problem using dynamic programming.\n",
    "\n",
    "    Args:\n",
    "        weights (list of int): The weights of the items.\n",
    "        values (list of int): The values of the items.\n",
    "        capacity (int): The weight capacity of the knapsack.\n",
    "\n",
    "    Returns:\n",
    "        int: The maximum value that can be achieved within the given weight capacity.\n",
    "\n",
    "    Example:\n",
    "        >>> knapsack([1, 3, 4, 5], [1, 4, 5, 7], 7)\n",
    "        9\n",
    "    \"\"\"\n",
    "    n = len(weights)\n",
    "    \n",
    "    dp = [[0] * (capacity + 1) for _ in range(n + 1)]\n",
    "   \n",
    "    for i in range(1, n + 1):\n",
    "        for w in range(1, capacity + 1):\n",
    "            if weights[i - 1] <= w:  # Item can be included\n",
    "                dp[i][w] = max(dp[i - 1][w], dp[i - 1][w - weights[i - 1]] + values[i - 1])\n",
    "            else:  # Item cannot be included\n",
    "                dp[i][w] = dp[i - 1][w]\n",
    "    \n",
    "    return dp[n][capacity]\n",
    "print(knapsack([1, 3, 4, 5], [1, 4, 5, 7], 7))  # Expected output: 9\n"
   ]
  }
 ],
 "metadata": {
  "kernelspec": {
   "display_name": "Python 3 (ipykernel)",
   "language": "python",
   "name": "python3"
  },
  "language_info": {
   "codemirror_mode": {
    "name": "ipython",
    "version": 3
   },
   "file_extension": ".py",
   "mimetype": "text/x-python",
   "name": "python",
   "nbconvert_exporter": "python",
   "pygments_lexer": "ipython3",
   "version": "3.13.0"
  }
 },
 "nbformat": 4,
 "nbformat_minor": 5
}
