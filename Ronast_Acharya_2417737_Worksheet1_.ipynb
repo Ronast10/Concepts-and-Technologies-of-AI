{
  "cells": [
    {
      "cell_type": "markdown",
      "metadata": {
        "id": "VbRT8qXll3D_"
      },
      "source": [
        "# Worksheet 1 Ronast Acharya\n"
      ]
    },
    {
      "cell_type": "markdown",
      "metadata": {
        "id": "EDv5jWkGmgDF"
      },
      "source": [
        "### Problem-1: Array Creation:"
      ]
    },
    {
      "cell_type": "code",
      "execution_count": 19,
      "metadata": {
        "colab": {
          "base_uri": "https://localhost:8080/"
        },
        "id": "emZsfL03mlY-",
        "outputId": "02a4d0f0-ac73-4233-e256-080bd873a432"
      },
      "outputs": [
        {
          "output_type": "execute_result",
          "data": {
            "text/plain": [
              "array([[4.9e-324, 9.9e-324],\n",
              "       [1.5e-323, 2.0e-323]])"
            ]
          },
          "metadata": {},
          "execution_count": 19
        }
      ],
      "source": [
        "#1. Initialize an empty array with size 2X2.\n",
        "import numpy as np\n",
        "e_array=np.empty([2,2])\n",
        "e_array"
      ]
    },
    {
      "cell_type": "code",
      "execution_count": 20,
      "metadata": {
        "colab": {
          "base_uri": "https://localhost:8080/"
        },
        "id": "5nxlBzkInhWm",
        "outputId": "cf1f9c6a-be44-437c-d99b-e21c3f1954a5"
      },
      "outputs": [
        {
          "output_type": "execute_result",
          "data": {
            "text/plain": [
              "array([[1., 1.],\n",
              "       [1., 1.],\n",
              "       [1., 1.],\n",
              "       [1., 1.]])"
            ]
          },
          "metadata": {},
          "execution_count": 20
        }
      ],
      "source": [
        "#2. Initialize an all one array with size 4X2.\n",
        "o_array=np.ones([4,2])\n",
        "o_array"
      ]
    },
    {
      "cell_type": "code",
      "execution_count": 21,
      "metadata": {
        "colab": {
          "base_uri": "https://localhost:8080/"
        },
        "id": "Xw7BZ5uDn7kS",
        "outputId": "bbdf5799-8461-4c09-d1a9-e0d1dd1fe2ae"
      },
      "outputs": [
        {
          "output_type": "execute_result",
          "data": {
            "text/plain": [
              "array([[7, 7],\n",
              "       [7, 7]])"
            ]
          },
          "metadata": {},
          "execution_count": 21
        }
      ],
      "source": [
        "#3. Return a new array of given shape and type, filled with fill value.{Hint: np.full}\n",
        "fill_array=np.full((2,2),7)\n",
        "fill_array"
      ]
    },
    {
      "cell_type": "code",
      "execution_count": 22,
      "metadata": {
        "colab": {
          "base_uri": "https://localhost:8080/"
        },
        "id": "382oHoEVpNUh",
        "outputId": "7ec562ac-4acf-4cf6-992e-96257dd7da7a"
      },
      "outputs": [
        {
          "output_type": "execute_result",
          "data": {
            "text/plain": [
              "array([[0, 0],\n",
              "       [0, 0]])"
            ]
          },
          "metadata": {},
          "execution_count": 22
        }
      ],
      "source": [
        "#4. Return a new array of zeros with same shape and type as a given array.{Hint: np.zeros like}\n",
        "fill_zeros_array=np.zeros_like(fill_array)\n",
        "fill_zeros_array"
      ]
    },
    {
      "cell_type": "code",
      "execution_count": 23,
      "metadata": {
        "colab": {
          "base_uri": "https://localhost:8080/"
        },
        "id": "_aKvsFhuppQi",
        "outputId": "46f42be0-186a-41a7-f7cf-0d4c3d38ff61"
      },
      "outputs": [
        {
          "output_type": "execute_result",
          "data": {
            "text/plain": [
              "array([[1, 1],\n",
              "       [1, 1]])"
            ]
          },
          "metadata": {},
          "execution_count": 23
        }
      ],
      "source": [
        "#5. Return a new array of ones with same shape and type as a given array.{Hint: np.ones like}\n",
        "fill_ones_array=np.ones_like(fill_array)\n",
        "fill_ones_array"
      ]
    },
    {
      "cell_type": "code",
      "execution_count": 24,
      "metadata": {
        "colab": {
          "base_uri": "https://localhost:8080/"
        },
        "id": "0pXMMlbHpyfh",
        "outputId": "4bcf8b1f-6fdf-4c49-fb5d-7cdb3dffbf6f"
      },
      "outputs": [
        {
          "output_type": "execute_result",
          "data": {
            "text/plain": [
              "array([1, 2, 3, 4])"
            ]
          },
          "metadata": {},
          "execution_count": 24
        }
      ],
      "source": [
        "#6. For an existing list new_list = [1,2,3,4] convert to an numpy array.{Hint: np.array()}\n",
        "new_list=[1,2,3,4]\n",
        "new_array=np.array(new_list)\n",
        "new_array"
      ]
    },
    {
      "cell_type": "markdown",
      "metadata": {
        "id": "s6Uqur_6qIDl"
      },
      "source": [
        "### Problem-2: Array Manipulation: Numerical Ranges and Array Indexing'"
      ]
    },
    {
      "cell_type": "code",
      "execution_count": 25,
      "metadata": {
        "colab": {
          "base_uri": "https://localhost:8080/"
        },
        "id": "NcoWZZoGqeBB",
        "outputId": "3d8bd25e-f95a-46d1-fed9-9ad2c179a8dc"
      },
      "outputs": [
        {
          "output_type": "execute_result",
          "data": {
            "text/plain": [
              "array([10, 11, 12, 13, 14, 15, 16, 17, 18, 19, 20, 21, 22, 23, 24, 25, 26,\n",
              "       27, 28, 29, 30, 31, 32, 33, 34, 35, 36, 37, 38, 39, 40, 41, 42, 43,\n",
              "       44, 45, 46, 47, 48])"
            ]
          },
          "metadata": {},
          "execution_count": 25
        }
      ],
      "source": [
        "#1. Create an array with values ranging from 10 to 49. {Hint:np.arrange()}.\n",
        "ranging_array=np.arange(10,49)\n",
        "ranging_array"
      ]
    },
    {
      "cell_type": "code",
      "execution_count": 26,
      "metadata": {
        "colab": {
          "base_uri": "https://localhost:8080/"
        },
        "id": "-rvI6_A1rFNU",
        "outputId": "b7b75b91-8016-40a1-91e9-9af37c73061a"
      },
      "outputs": [
        {
          "output_type": "stream",
          "name": "stdout",
          "text": [
            "Before arranging: [0 1 2 3 4 5 6 7 8]\n",
            "After arranging: [[0 1 2]\n",
            " [3 4 5]\n",
            " [6 7 8]]\n"
          ]
        }
      ],
      "source": [
        "#2. Create a 3X3 matrix with values ranging from 0 to 8.{Hint:look for np.reshape()}\n",
        "ranging_array2=np.arange(0,9)\n",
        "print(f\"Before arranging: {ranging_array2}\")\n",
        "reshaped_ranging_array2=ranging_array2.reshape(3,3)\n",
        "print(f\"After arranging: {reshaped_ranging_array2}\")"
      ]
    },
    {
      "cell_type": "code",
      "execution_count": 27,
      "metadata": {
        "colab": {
          "base_uri": "https://localhost:8080/"
        },
        "id": "3AqNnoPZtrXK",
        "outputId": "afa79987-5487-4f82-8943-afc027db718c"
      },
      "outputs": [
        {
          "output_type": "execute_result",
          "data": {
            "text/plain": [
              "array([[1., 0., 0.],\n",
              "       [0., 1., 0.],\n",
              "       [0., 0., 1.]])"
            ]
          },
          "metadata": {},
          "execution_count": 27
        }
      ],
      "source": [
        "#3. Create a 3X3 identity matrix.{Hint:np.eye()}\n",
        "i_matrix=np.eye(3)\n",
        "i_matrix"
      ]
    },
    {
      "cell_type": "code",
      "execution_count": 28,
      "metadata": {
        "colab": {
          "base_uri": "https://localhost:8080/"
        },
        "id": "ovIs0AFJuwai",
        "outputId": "06f38cce-0c41-426c-9b66-556916242198"
      },
      "outputs": [
        {
          "output_type": "stream",
          "name": "stdout",
          "text": [
            "Random array: [0.18140732 0.72233585 0.55157475 0.59908595 0.3137097  0.6567113\n",
            " 0.88604665 0.07278012 0.36214459 0.34611596 0.29702126 0.11294222\n",
            " 0.53156594 0.4204302  0.42735076 0.46608724 0.21018688 0.62110039\n",
            " 0.22009659 0.30549048 0.0545497  0.69746885 0.25384762 0.13206317\n",
            " 0.11832288 0.34046684 0.03138683 0.41542366 0.2511754  0.40136373]\n",
            "Mean of the array: 0.3666750940189892\n"
          ]
        }
      ],
      "source": [
        "#4. Create a random array of size 30 and find the mean of the array.{Hint:check for np.random.random() and array.mean() function}\n",
        "randomarray=np.random.random(30)\n",
        "print(f\"Random array: {randomarray}\")\n",
        "print(f\"Mean of the array: {randomarray.mean()}\")"
      ]
    },
    {
      "cell_type": "code",
      "execution_count": 29,
      "metadata": {
        "colab": {
          "base_uri": "https://localhost:8080/"
        },
        "id": "X20G7D9HA4fX",
        "outputId": "1492b918-ec45-48ed-9a62-00d838f3c73c"
      },
      "outputs": [
        {
          "output_type": "stream",
          "name": "stdout",
          "text": [
            "Random array: [[0.91005529 0.97861061 0.40977726 0.43683289 0.82448124 0.0326079\n",
            "  0.35643148 0.90398968 0.12365079 0.30230468]\n",
            " [0.46215935 0.58806103 0.84856312 0.60764061 0.85455269 0.97668103\n",
            "  0.11553538 0.10141602 0.21528392 0.88315709]\n",
            " [0.03053913 0.75403433 0.32209945 0.37716564 0.53123322 0.59180633\n",
            "  0.07665978 0.43822546 0.92400249 0.18494915]\n",
            " [0.29715077 0.91378287 0.582086   0.63132474 0.59246098 0.73851945\n",
            "  0.5672009  0.66013232 0.2455279  0.87199432]\n",
            " [0.89048553 0.02915362 0.58561189 0.24075816 0.35537103 0.5359948\n",
            "  0.56071372 0.71160137 0.08077289 0.44975448]\n",
            " [0.80262612 0.16731766 0.31439448 0.87986358 0.15358296 0.38045374\n",
            "  0.23286347 0.92417318 0.45240073 0.51045021]\n",
            " [0.18546596 0.80700998 0.35711185 0.85233304 0.82880303 0.79209011\n",
            "  0.32783951 0.11232312 0.14501623 0.18323081]\n",
            " [0.88456861 0.83898372 0.64580368 0.27163538 0.94167838 0.784402\n",
            "  0.09788666 0.73515762 0.38612602 0.82653287]\n",
            " [0.2994647  0.11482372 0.92293902 0.02718677 0.51129141 0.49107037\n",
            "  0.45866827 0.74084427 0.80643622 0.18241004]\n",
            " [0.7966728  0.8192312  0.68593807 0.86853798 0.1920736  0.45437186\n",
            "  0.6728763  0.11721641 0.27438505 0.36309592]]\n",
            "Minimum value: 0.02718677269658354\n",
            "Maximum value: 0.9786106085138562\n"
          ]
        }
      ],
      "source": [
        "#5. Create a 10X10 array with random values and find the minimum and maximum values.\n",
        "random_array2=np.random.random((10,10))\n",
        "print(f\"Random array: {random_array2}\")\n",
        "print(f\"Minimum value: {random_array2.min()}\")\n",
        "print(f\"Maximum value: {random_array2.max()}\")"
      ]
    },
    {
      "cell_type": "code",
      "execution_count": 30,
      "metadata": {
        "colab": {
          "base_uri": "https://localhost:8080/"
        },
        "id": "_b-mcr2zBQiZ",
        "outputId": "f5e35cf9-f10e-42ed-9064-753282c443ba"
      },
      "outputs": [
        {
          "output_type": "stream",
          "name": "stdout",
          "text": [
            "Original Array: [0. 0. 0. 0. 0. 0. 0. 0. 0. 0.]\n",
            "Modified Array: [0. 0. 0. 0. 1. 0. 0. 0. 0. 0.]\n"
          ]
        }
      ],
      "source": [
        "#6. Create a zero array of size 10 and replace 5th element with 1.\n",
        "zarray=np.zeros(10)\n",
        "print(f\"Original Array: {zarray}\")\n",
        "zarray[4]=1\n",
        "print(f\"Modified Array: {zarray}\")"
      ]
    },
    {
      "cell_type": "code",
      "execution_count": 31,
      "metadata": {
        "colab": {
          "base_uri": "https://localhost:8080/"
        },
        "id": "86EEAREhCB--",
        "outputId": "4e963676-0ca9-4fec-f2e9-f47fd2a8074a"
      },
      "outputs": [
        {
          "output_type": "execute_result",
          "data": {
            "text/plain": [
              "array([0, 4, 0, 0, 2, 1])"
            ]
          },
          "metadata": {},
          "execution_count": 31
        }
      ],
      "source": [
        "#7. Reverse an array arr = [1,2,0,0,4,0].\n",
        "arr = [1,2,0,0,4,0]\n",
        "reversedarray=np.flip(arr)\n",
        "reversedarray"
      ]
    },
    {
      "cell_type": "code",
      "execution_count": 32,
      "metadata": {
        "colab": {
          "base_uri": "https://localhost:8080/"
        },
        "id": "Ed-y0YRwCjPi",
        "outputId": "4e8f403c-f694-4e4d-bbb9-9087a51a0825"
      },
      "outputs": [
        {
          "output_type": "stream",
          "name": "stdout",
          "text": [
            "Original Array: \n",
            "[[1. 1. 1.]\n",
            " [1. 1. 1.]\n",
            " [1. 1. 1.]]\n",
            "Modified Array: \n",
            "[[1. 1. 1.]\n",
            " [1. 0. 1.]\n",
            " [1. 1. 1.]]\n"
          ]
        }
      ],
      "source": [
        "#8. Create a 2d array with 1 on border and 0 inside.\n",
        "original_array=np.ones([3,3])\n",
        "print(f\"Original Array: \\n{original_array}\")\n",
        "original_array[1][1]=0\n",
        "print(f\"Modified Array: \\n{original_array}\")"
      ]
    },
    {
      "cell_type": "code",
      "execution_count": 33,
      "metadata": {
        "colab": {
          "base_uri": "https://localhost:8080/"
        },
        "id": "MCq-p5cXHORJ",
        "outputId": "b4ccae0e-ca37-4279-cfea-a88ded283c9c"
      },
      "outputs": [
        {
          "output_type": "stream",
          "name": "stdout",
          "text": [
            "Original Array: \n",
            "[[0. 0. 0. 0. 0. 0. 0. 0.]\n",
            " [0. 0. 0. 0. 0. 0. 0. 0.]\n",
            " [0. 0. 0. 0. 0. 0. 0. 0.]\n",
            " [0. 0. 0. 0. 0. 0. 0. 0.]\n",
            " [0. 0. 0. 0. 0. 0. 0. 0.]\n",
            " [0. 0. 0. 0. 0. 0. 0. 0.]\n",
            " [0. 0. 0. 0. 0. 0. 0. 0.]\n",
            " [0. 0. 0. 0. 0. 0. 0. 0.]]\n",
            "Modified Array: \n",
            "[[0. 1. 0. 1. 0. 1. 0. 1.]\n",
            " [1. 0. 1. 0. 1. 0. 1. 0.]\n",
            " [0. 1. 0. 1. 0. 1. 0. 1.]\n",
            " [1. 0. 1. 0. 1. 0. 1. 0.]\n",
            " [0. 1. 0. 1. 0. 1. 0. 1.]\n",
            " [1. 0. 1. 0. 1. 0. 1. 0.]\n",
            " [0. 1. 0. 1. 0. 1. 0. 1.]\n",
            " [1. 0. 1. 0. 1. 0. 1. 0.]]\n"
          ]
        }
      ],
      "source": [
        "#9. Create a 8X8 matrix and fill it with a checkerboard pattern.\n",
        "checkerboard_array=np.zeros([8,8])\n",
        "print(f\"Original Array: \\n{checkerboard_array}\")\n",
        "checkerboard_array[1::2,::2]=1\n",
        "checkerboard_array[::2,1::2]=1\n",
        "print(f\"Modified Array: \\n{checkerboard_array}\")"
      ]
    },
    {
      "cell_type": "markdown",
      "metadata": {
        "id": "bBDbRZXHj8Jj"
      },
      "source": [
        "### Problem - 3: Array Operations:"
      ]
    },
    {
      "cell_type": "code",
      "execution_count": 34,
      "metadata": {
        "id": "64BO0ElikAAr"
      },
      "outputs": [],
      "source": [
        "x = np.array([[1,2],[3,5]])\n",
        "y = np.array([[5,6],[7,8]])\n",
        "v = np.array([9,10])\n",
        "w = np.array([11,12])"
      ]
    },
    {
      "cell_type": "code",
      "execution_count": 35,
      "metadata": {
        "colab": {
          "base_uri": "https://localhost:8080/"
        },
        "id": "NjtdTC3skNs9",
        "outputId": "b060c969-c5d2-4c6e-e2aa-a11c5f348647"
      },
      "outputs": [
        {
          "output_type": "stream",
          "name": "stdout",
          "text": [
            "First output: \n",
            "[[ 6  8]\n",
            " [10 13]]\n",
            "\n",
            "Second output: \n",
            "[20 22]\n"
          ]
        }
      ],
      "source": [
        "#1. Add the two array.\n",
        "print(f\"First output: \\n{np.add(x,y)}\\n\")\n",
        "print(f\"Second output: \\n{np.add(v,w)}\")"
      ]
    },
    {
      "cell_type": "code",
      "execution_count": 36,
      "metadata": {
        "colab": {
          "base_uri": "https://localhost:8080/"
        },
        "id": "nH65o4prkwoQ",
        "outputId": "8886b8be-7f2b-4e94-aa60-0e298f8e2dbc"
      },
      "outputs": [
        {
          "output_type": "stream",
          "name": "stdout",
          "text": [
            "First output: \n",
            "[[-4 -4]\n",
            " [-4 -3]]\n",
            "\n",
            "Second output: \n",
            "[-2 -2]\n"
          ]
        }
      ],
      "source": [
        "#2. Subtract the two array.\n",
        "print(f\"First output: \\n{np.subtract(x,y)}\\n\")\n",
        "print(f\"Second output: \\n{np.subtract(v,w)}\")"
      ]
    },
    {
      "cell_type": "code",
      "execution_count": 37,
      "metadata": {
        "colab": {
          "base_uri": "https://localhost:8080/"
        },
        "id": "7jDLXXWFlQor",
        "outputId": "d03aae04-0381-4bbb-e6b7-ccd726ac7f7b"
      },
      "outputs": [
        {
          "output_type": "stream",
          "name": "stdout",
          "text": [
            "[[ 2  4]\n",
            " [ 6 10]]\n",
            "\n",
            "[[10 12]\n",
            " [14 16]]\n",
            "\n",
            "[18 20]\n",
            "\n",
            "[22 24]\n",
            "\n"
          ]
        }
      ],
      "source": [
        "#3. Multiply the array with any integers of your choice.\n",
        "print(f\"{x*2}\\n\")\n",
        "print(f\"{y*2}\\n\")\n",
        "print(f\"{v*2}\\n\")\n",
        "print(f\"{w*2}\\n\")"
      ]
    },
    {
      "cell_type": "code",
      "execution_count": 38,
      "metadata": {
        "colab": {
          "base_uri": "https://localhost:8080/"
        },
        "id": "l_eZ2s_Xl1A_",
        "outputId": "7b891217-d73a-45a4-881e-fc738218740d"
      },
      "outputs": [
        {
          "output_type": "stream",
          "name": "stdout",
          "text": [
            "[[ 1  4]\n",
            " [ 9 25]]\n",
            "\n",
            "[[25 36]\n",
            " [49 64]]\n",
            "\n",
            "[ 81 100]\n",
            "\n",
            "[121 144]\n",
            "\n"
          ]
        }
      ],
      "source": [
        "#4. Find the square of each element of the array.\n",
        "print(f\"{x**2}\\n\")\n",
        "print(f\"{y**2}\\n\")\n",
        "print(f\"{v**2}\\n\")\n",
        "print(f\"{w**2}\\n\")"
      ]
    },
    {
      "cell_type": "code",
      "execution_count": 39,
      "metadata": {
        "colab": {
          "base_uri": "https://localhost:8080/"
        },
        "id": "K4nx17himKPC",
        "outputId": "50175614-fce3-4573-c72c-e18bd588fabd"
      },
      "outputs": [
        {
          "output_type": "stream",
          "name": "stdout",
          "text": [
            "First output: \n",
            "219\n",
            "\n",
            "Second output: \n",
            "[29 77]\n",
            "\n",
            "Third output: \n",
            "[[19 22]\n",
            " [50 58]]\n",
            "\n"
          ]
        }
      ],
      "source": [
        "#5. Find the dot product between: v(and)w ; x(and)v ; x(and)y.\n",
        "print(f\"First output: \\n{np.dot(v,w)}\\n\")\n",
        "print(f\"Second output: \\n{np.dot(x,v)}\\n\")\n",
        "print(f\"Third output: \\n{np.dot(x,y)}\\n\")"
      ]
    },
    {
      "cell_type": "code",
      "execution_count": 40,
      "metadata": {
        "colab": {
          "base_uri": "https://localhost:8080/"
        },
        "id": "M3KBojF_n_TG",
        "outputId": "42340ee4-8191-4945-8bf0-621bc60d84be"
      },
      "outputs": [
        {
          "output_type": "stream",
          "name": "stdout",
          "text": [
            "First output: \n",
            "[[1 2 5 6]\n",
            " [3 5 7 8]]\n",
            "\n",
            "Second output: \n",
            "[ 9 10 11 12]\n",
            "\n"
          ]
        }
      ],
      "source": [
        "#6. Concatenate x(and)y along row and Concatenate v(and)w along column.{Hint:try np.concatenate() or np.vstack() functions.\n",
        "print(f\"First output: \\n{np.concatenate((x,y),axis=1)}\\n\")\n",
        "print(f\"Second output: \\n{np.concatenate((v,w),axis=0)}\\n\")"
      ]
    },
    {
      "cell_type": "code",
      "execution_count": 41,
      "metadata": {
        "colab": {
          "base_uri": "https://localhost:8080/",
          "height": 158
        },
        "id": "IZCKdskflGiy",
        "outputId": "be6ec206-a74c-43d0-f204-083f4b69ce20"
      },
      "outputs": [
        {
          "output_type": "error",
          "ename": "ValueError",
          "evalue": "all the input arrays must have same number of dimensions, but the array at index 0 has 2 dimension(s) and the array at index 1 has 1 dimension(s)",
          "traceback": [
            "\u001b[0;31m---------------------------------------------------------------------------\u001b[0m",
            "\u001b[0;31mValueError\u001b[0m                                Traceback (most recent call last)",
            "\u001b[0;32m<ipython-input-41-63cf0298b8b4>\u001b[0m in \u001b[0;36m<cell line: 2>\u001b[0;34m()\u001b[0m\n\u001b[1;32m      1\u001b[0m \u001b[0;31m#7. Concatenate x(and)v; if you get an error, observe and explain why did you get the error?\u001b[0m\u001b[0;34m\u001b[0m\u001b[0;34m\u001b[0m\u001b[0m\n\u001b[0;32m----> 2\u001b[0;31m \u001b[0mprint\u001b[0m\u001b[0;34m(\u001b[0m\u001b[0;34mf\"Output: {np.concatenate((x,v),axis=1)}\"\u001b[0m\u001b[0;34m)\u001b[0m\u001b[0;34m\u001b[0m\u001b[0;34m\u001b[0m\u001b[0m\n\u001b[0m",
            "\u001b[0;31mValueError\u001b[0m: all the input arrays must have same number of dimensions, but the array at index 0 has 2 dimension(s) and the array at index 1 has 1 dimension(s)"
          ]
        }
      ],
      "source": [
        "#7. Concatenate x(and)v; if you get an error, observe and explain why did you get the error?\n",
        "print(f\"Output: {np.concatenate((x,v),axis=1)}\")"
      ]
    },
    {
      "cell_type": "markdown",
      "metadata": {
        "id": "JzBMP6tjmyON"
      },
      "source": [
        "error while concatenating x and v because they are of different dimensions."
      ]
    },
    {
      "cell_type": "markdown",
      "metadata": {
        "id": "YK_CXqAAm-_X"
      },
      "source": [
        "### Problem - 4: Matrix Operations:"
      ]
    },
    {
      "cell_type": "code",
      "execution_count": 42,
      "metadata": {
        "colab": {
          "base_uri": "https://localhost:8080/"
        },
        "id": "QsHNyia2nCB3",
        "outputId": "10729901-8b84-4f4a-fba8-927bacea851c"
      },
      "outputs": [
        {
          "output_type": "stream",
          "name": "stdout",
          "text": [
            "A:\n",
            "[[3 4]\n",
            " [7 8]] \n",
            "B:\n",
            "[[5 3]\n",
            " [2 1]]\n"
          ]
        }
      ],
      "source": [
        "A = np.array([[3,4],[7,8]])\n",
        "B = np.array([[5,3],[2,1]])\n",
        "print(f\"A:\\n{A} \\nB:\\n{B}\")"
      ]
    },
    {
      "cell_type": "code",
      "execution_count": 43,
      "metadata": {
        "colab": {
          "base_uri": "https://localhost:8080/"
        },
        "id": "JwDwEQxLncTJ",
        "outputId": "fe6272be-aa9f-4847-d839-1658212982e1"
      },
      "outputs": [
        {
          "output_type": "stream",
          "name": "stdout",
          "text": [
            "Ainv:\n",
            "[[-2.    1.  ]\n",
            " [ 1.75 -0.75]]\n",
            "A.Ainv:\n",
            "[[1.00000000e+00 0.00000000e+00]\n",
            " [1.77635684e-15 1.00000000e+00]]\n"
          ]
        }
      ],
      "source": [
        "#1. Prove A.A−1 = I.\n",
        "Ainv=np.linalg.inv(A)\n",
        "print(f\"Ainv:\\n{Ainv}\")\n",
        "print(f\"A.Ainv:\\n{np.dot(A,Ainv)}\")"
      ]
    },
    {
      "cell_type": "code",
      "execution_count": 44,
      "metadata": {
        "colab": {
          "base_uri": "https://localhost:8080/"
        },
        "id": "BcaYL9S0IGrC",
        "outputId": "e3559c96-8cbc-4ea1-ba58-76eabdb8ac19"
      },
      "outputs": [
        {
          "output_type": "stream",
          "name": "stdout",
          "text": [
            "AB:\n",
            "[[23 13]\n",
            " [51 29]]\n",
            "BA:\n",
            "[[36 44]\n",
            " [13 16]]\n"
          ]
        }
      ],
      "source": [
        "#2. Prove AB ̸= BA.\n",
        "print(f\"AB:\\n{np.dot(A,B)}\")\n",
        "print(f\"BA:\\n{np.dot(B,A)}\")"
      ]
    },
    {
      "cell_type": "code",
      "execution_count": 45,
      "metadata": {
        "colab": {
          "base_uri": "https://localhost:8080/"
        },
        "id": "8y2Mc2m_IMxx",
        "outputId": "6850f212-0d49-4f04-d370-f9d2734f2908"
      },
      "outputs": [
        {
          "output_type": "stream",
          "name": "stdout",
          "text": [
            "(AB)T:\n",
            "[[23 51]\n",
            " [13 29]]\n",
            "BT.AT:\n",
            "[[23 51]\n",
            " [13 29]]\n"
          ]
        }
      ],
      "source": [
        "#3. Prove (AB)T = BT.AT.\n",
        "AB=np.dot(A,B)\n",
        "BT=np.transpose(B)\n",
        "AT=np.transpose(A)\n",
        "print(f\"(AB)T:\\n{np.transpose(AB)}\")\n",
        "print(f\"BT.AT:\\n{np.dot(BT,AT)}\")"
      ]
    },
    {
      "cell_type": "code",
      "execution_count": 46,
      "metadata": {
        "colab": {
          "base_uri": "https://localhost:8080/"
        },
        "id": "eUQoTYvQdJ_W",
        "outputId": "362e056c-df50-46a0-e892-4e81177ce882"
      },
      "outputs": [
        {
          "output_type": "stream",
          "name": "stdout",
          "text": [
            "x=2.0\n",
            "y=1.0\n",
            "z=-2.0\n"
          ]
        }
      ],
      "source": [
        "#• Solve the following system of Linear equation using Inverse Methods.\n",
        "#2x − 3y + z = −1\n",
        "#x − y + 2z = −3\n",
        "#3x + y − z = 9\n",
        "A=np.array([[2,-3,1],[1,-1,2],[3,1,-1]])\n",
        "B=np.array([-1,-3,9])\n",
        "AI=np.linalg.inv(A)\n",
        "X=np.dot(AI,B)\n",
        "print(f\"x={X[0]}\\ny={X[1]}\\nz={X[2]}\")"
      ]
    },
    {
      "cell_type": "markdown",
      "metadata": {
        "id": "6Bk0XBCzeNEe"
      },
      "source": [
        "### Experiment: How Fast is Numpy?"
      ]
    },
    {
      "cell_type": "markdown",
      "metadata": {
        "id": "nganmn7PeUJW"
      },
      "source": [
        "#### 1. Element-wise Addition"
      ]
    },
    {
      "cell_type": "code",
      "execution_count": 47,
      "metadata": {
        "colab": {
          "base_uri": "https://localhost:8080/"
        },
        "id": "6T0wpJTfeX8X",
        "outputId": "d9643fb9-28cf-43ef-afdd-09f08882ed00"
      },
      "outputs": [
        {
          "output_type": "stream",
          "name": "stdout",
          "text": [
            "Python Time: 0.3553897380002127\n",
            "Numpy Time: 0.0021051469998383254\n"
          ]
        }
      ],
      "source": [
        "import random\n",
        "from timeit import timeit\n",
        "def add_python(Z1,Z2):\n",
        "  return [z1+z2 for z1,z2 in zip(Z1,Z2)]\n",
        "def add_numpy(Z1,Z2):\n",
        "  return np.add(Z1,Z2)\n",
        "size=1000000\n",
        "Z1_list=random.sample(range(size+1),size)\n",
        "Z2_list=random.sample(range(size+1),size)\n",
        "Z1_np=np.array(Z1_list)\n",
        "Z2_np=np.array(Z2_list)\n",
        "python_time=timeit(\"add_python(Z1_list,Z2_list)\",number=1,globals=globals())\n",
        "numpy_time=timeit(\"add_numpy(Z1_np,Z2_np)\",number=1,globals=globals())\n",
        "print(\"Python Time:\",python_time)\n",
        "print(\"Numpy Time:\",numpy_time)"
      ]
    },
    {
      "cell_type": "markdown",
      "metadata": {
        "id": "cQWCo2aHoewE"
      },
      "source": [
        "#### 2. Element-wise Multiplication"
      ]
    },
    {
      "cell_type": "code",
      "execution_count": 48,
      "metadata": {
        "colab": {
          "base_uri": "https://localhost:8080/"
        },
        "id": "xPc8OC-5okPs",
        "outputId": "466b0b4b-fde3-4c19-888f-2b7e8a0dd73a"
      },
      "outputs": [
        {
          "output_type": "stream",
          "name": "stdout",
          "text": [
            "Python Time: 0.3223465809996924\n",
            "Numpy Time: 0.0021707109999624663\n"
          ]
        }
      ],
      "source": [
        "def mul_python(Z1,Z2):\n",
        "  return [z1*z2 for z1,z2 in zip(Z1,Z2)]\n",
        "def mul_numpy(Z1,Z2):\n",
        "  return np.multiply(Z1,Z2)\n",
        "size=1000000\n",
        "Z1_list=random.sample(range(size+1),size)\n",
        "Z2_list=random.sample(range(size+1),size)\n",
        "Z1_np=np.array(Z1_list)\n",
        "Z2_np=np.array(Z2_list)\n",
        "python_time=timeit(\"mul_python(Z1_list,Z2_list)\",number=1,globals=globals())\n",
        "numpy_time=timeit(\"mul_numpy(Z1_np,Z2_np)\",number=1,globals=globals())\n",
        "print(\"Python Time:\",python_time)\n",
        "print(\"Numpy Time:\",numpy_time)"
      ]
    },
    {
      "cell_type": "markdown",
      "metadata": {
        "id": "E9T7Ty28usZM"
      },
      "source": [
        "#### 3. Dot product"
      ]
    },
    {
      "cell_type": "code",
      "execution_count": 49,
      "metadata": {
        "colab": {
          "base_uri": "https://localhost:8080/"
        },
        "id": "0ROrhCayuwK9",
        "outputId": "3bac4b3a-6b3f-4efb-941b-bf3076668b2c"
      },
      "outputs": [
        {
          "output_type": "stream",
          "name": "stdout",
          "text": [
            "Python Time: 0.3535520519999409\n",
            "Numpy Time: 0.001785762000054092\n"
          ]
        }
      ],
      "source": [
        "def dot_python(Z1,Z2):\n",
        "  return sum(z1*z2 for z1,z2 in zip(Z1,Z2))\n",
        "def dot_numpy(Z1,Z2):\n",
        "  return np.dot(Z1,Z2)\n",
        "size=1000000\n",
        "Z1_list=random.sample(range(size+1),size)\n",
        "Z2_list=random.sample(range(size+1),size)\n",
        "Z1_np=np.array(Z1_list)\n",
        "Z2_np=np.array(Z2_list)\n",
        "python_time=timeit(\"dot_python(Z1_list,Z2_list)\",number=1,globals=globals())\n",
        "numpy_time=timeit(\"dot_numpy(Z1_np,Z2_np)\",number=1,globals=globals())\n",
        "print(\"Python Time:\",python_time)\n",
        "print(\"Numpy Time:\",numpy_time)"
      ]
    },
    {
      "cell_type": "markdown",
      "metadata": {
        "id": "Fi4UUbzOwnj5"
      },
      "source": [
        "#### 4. Matrix Multiplication"
      ]
    },
    {
      "cell_type": "code",
      "execution_count": 50,
      "metadata": {
        "colab": {
          "base_uri": "https://localhost:8080/"
        },
        "id": "AjN1EHyE6dFJ",
        "outputId": "f0a1737e-54e8-48a6-8c15-ba025d66a61e"
      },
      "outputs": [
        {
          "output_type": "stream",
          "name": "stdout",
          "text": [
            "Python Time: 322.64288122200014\n",
            "Numpy Time: 1.3670337739999923\n"
          ]
        }
      ],
      "source": [
        "size=1000\n",
        "Z1_list = [random.sample(range(size),size) for _ in range(size)]\n",
        "Z2_list = [random.sample(range(size),size) for _ in range(size)]\n",
        "Z1_np = np.array(Z1_list)\n",
        "Z2_np = np.array(Z2_list)\n",
        "def np_matmul(Z1,Z2):\n",
        "  return np.matmul(Z1,Z2)\n",
        "def python_matmul(Z1,Z2):\n",
        "  return [[sum(z1*z2 for z1,z2 in zip(Z1_row,Z2_col)) for Z2_col in zip(*Z2)] for Z1_row in Z1]\n",
        "python_time=timeit(\"python_matmul(Z1_list,Z2_list)\",number=1,globals=globals())\n",
        "numpy_time=timeit(\"np_matmul(Z1_np,Z2_np)\",number=1,globals=globals())\n",
        "print(\"Python Time:\",python_time)\n",
        "print(\"Numpy Time:\",numpy_time)"
      ]
    },
    {
      "cell_type": "markdown",
      "metadata": {
        "id": "abjODjucl78u"
      },
      "source": [
        "## Practice Questions"
      ]
    },
    {
      "cell_type": "code",
      "execution_count": 51,
      "metadata": {
        "colab": {
          "base_uri": "https://localhost:8080/"
        },
        "id": "AfKQmVdMbjjO",
        "outputId": "613006d5-d096-441c-dc9c-bafc7201b4fd"
      },
      "outputs": [
        {
          "output_type": "stream",
          "name": "stdout",
          "text": [
            " A zeros array is \n",
            " [[0. 0. 0.]\n",
            " [0. 0. 0.]]  with dimensions  (2, 3) \n",
            "\n"
          ]
        }
      ],
      "source": [
        "import numpy as np\n",
        "# initialize an all zero array with size 2 X 3:\n",
        "zeros_arr = np . zeros ((2 ,3) )\n",
        "print (\" A zeros array is \\n\", zeros_arr , \" with dimensions \", zeros_arr . shape , \"\\n\")"
      ]
    },
    {
      "cell_type": "code",
      "execution_count": 52,
      "metadata": {
        "colab": {
          "base_uri": "https://localhost:8080/"
        },
        "id": "7OGoz7bQbsU6",
        "outputId": "7599399a-00c4-44eb-b798-c064ef4a950c"
      },
      "outputs": [
        {
          "output_type": "stream",
          "name": "stdout",
          "text": [
            " Array :\n",
            "5\\ nDimension : 0\\ nData type :int64\n",
            "\n",
            " Array :\n",
            "[1 2 3]\\ nDimension : 1\\ nData type :int64\n",
            "\n",
            " Array :\n",
            "[[1 2]\n",
            " [3 4]]\\ nDimension : 2\\ nData type :int64\n",
            "\n"
          ]
        }
      ],
      "source": [
        "import numpy as np\n",
        "# Create and display zero , one , and n- dimensional arrays\n",
        "zero_dim_array = np . array (5)\n",
        "one_dim_array = np . array ([1 , 2 , 3])\n",
        "n_dim_array = np . array ([[1 , 2] , [3 , 4]])\n",
        "for arr in [ zero_dim_array , one_dim_array , n_dim_array ]:\n",
        "  print ( f\" Array :\\n{arr }\\ nDimension : {arr. ndim }\\ nData type :{arr. dtype }\\n\")"
      ]
    },
    {
      "cell_type": "code",
      "execution_count": 53,
      "metadata": {
        "colab": {
          "base_uri": "https://localhost:8080/"
        },
        "id": "7myfqkegd9b1",
        "outputId": "749f8a31-f536-4a40-cc5e-dd58d009c5f0"
      },
      "outputs": [
        {
          "output_type": "stream",
          "name": "stdout",
          "text": [
            " Original Shape : (2, 3) \\ nReshaped Shape : (3, 2)\n"
          ]
        }
      ],
      "source": [
        "import numpy as np\n",
        "array = np . array ([[1 , 2 , 3] , [4 , 5 , 6]]) # Shape (2 , 3)\n",
        "reshaped_array = array . reshape (3 , 2) # Reshape to (3 ,2) , keeping 6 elements\n",
        "print (\" Original Shape :\", array . shape , \"\\ nReshaped Shape :\", reshaped_array . shape )"
      ]
    },
    {
      "cell_type": "code",
      "execution_count": 54,
      "metadata": {
        "colab": {
          "base_uri": "https://localhost:8080/"
        },
        "id": "ohA_aagkcWBq",
        "outputId": "d48494cb-52e3-41f7-caf7-971e502ee285"
      },
      "outputs": [
        {
          "output_type": "stream",
          "name": "stdout",
          "text": [
            "[1 2 3 4 5 6 7 8 9]\n",
            "range(1, 10)\n",
            "[1, 2, 3, 4, 5, 6, 7, 8, 9]\n",
            "[ 0.  1.  2.  3.  4.  5.  6.  7.  8.  9. 10.]\n",
            "[ 0.5  1.3  2.1  2.9  3.7  4.5  5.3  6.1  6.9  7.7  8.5  9.3 10.1]\n"
          ]
        }
      ],
      "source": [
        "import numpy as np\n",
        "a = np . arange (1 , 10)\n",
        "print ( a )\n",
        "x = range (1 , 10)\n",
        "print ( x ) # x is an iterator\n",
        "print ( list ( x ) )\n",
        "# further arange examples :\n",
        "x = np . arange (10.4)\n",
        "print ( x )\n",
        "x = np . arange (0.5 , 10.4 , 0.8)\n",
        "print ( x )"
      ]
    },
    {
      "cell_type": "code",
      "execution_count": 55,
      "metadata": {
        "colab": {
          "base_uri": "https://localhost:8080/"
        },
        "id": "gBU8PrjodMA0",
        "outputId": "1cf6f9ef-7eb3-4b48-9f9d-5e77946eba78"
      },
      "outputs": [
        {
          "output_type": "stream",
          "name": "stdout",
          "text": [
            "[ 1.          1.18367347  1.36734694  1.55102041  1.73469388  1.91836735\n",
            "  2.10204082  2.28571429  2.46938776  2.65306122  2.83673469  3.02040816\n",
            "  3.20408163  3.3877551   3.57142857  3.75510204  3.93877551  4.12244898\n",
            "  4.30612245  4.48979592  4.67346939  4.85714286  5.04081633  5.2244898\n",
            "  5.40816327  5.59183673  5.7755102   5.95918367  6.14285714  6.32653061\n",
            "  6.51020408  6.69387755  6.87755102  7.06122449  7.24489796  7.42857143\n",
            "  7.6122449   7.79591837  7.97959184  8.16326531  8.34693878  8.53061224\n",
            "  8.71428571  8.89795918  9.08163265  9.26530612  9.44897959  9.63265306\n",
            "  9.81632653 10.        ]\n",
            "[ 1.   2.5  4.   5.5  7.   8.5 10. ]\n",
            "[1.         2.28571429 3.57142857 4.85714286 6.14285714 7.42857143\n",
            " 8.71428571]\n"
          ]
        }
      ],
      "source": [
        "import numpy as np\n",
        "# 50 values between 1 and 10:\n",
        "print ( np . linspace (1 , 10) )\n",
        "# 7 values between 1 and 10:\n",
        "print ( np . linspace (1 , 10 , 7) )\n",
        "# excluding the endpoint :\n",
        "print ( np . linspace (1 , 10 , 7 , endpoint = False ) )"
      ]
    },
    {
      "cell_type": "code",
      "execution_count": 56,
      "metadata": {
        "colab": {
          "base_uri": "https://localhost:8080/"
        },
        "id": "B_J1zjowCTIs",
        "outputId": "a14b9054-8276-4976-df5f-2078a0cc3c44"
      },
      "outputs": [
        {
          "output_type": "stream",
          "name": "stdout",
          "text": [
            "[[1 2 5 6]\n",
            " [3 4 7 8]]\n",
            "[[1 2]\n",
            " [3 4]\n",
            " [5 6]\n",
            " [7 8]]\n",
            "[[1 5]\n",
            " [2 6]]\n"
          ]
        }
      ],
      "source": [
        "import numpy as np\n",
        "arr1 = np . array ([[1 , 2] , [3 , 4]]) # Shape : (2 , 2)\n",
        "arr2 = np . array ([[5 , 6] , [7 , 8]]) # Shape : (2 , 2)\n",
        "# Stacking examples\n",
        "hstacked = np . hstack (( arr1 , arr2 ) )\n",
        "# Output hstack : [[1 2 5 6] [3 4 7 8]]\n",
        "vstacked = np . vstack (( arr1 , arr2 ) )\n",
        "# Output vstack [[1 2] [3 4] [5 6] [7 8]]\n",
        "colstacked = np . column_stack (( arr1 [0] , arr2 [0]) )\n",
        "# Output column stack : [[1 5] [2 6]]\n",
        "print ( hstacked , vstacked , colstacked , sep ='\\n')"
      ]
    },
    {
      "cell_type": "code",
      "execution_count": 57,
      "metadata": {
        "colab": {
          "base_uri": "https://localhost:8080/"
        },
        "id": "tX00DFikCLPN",
        "outputId": "b028c67d-ee86-4304-da6c-516dcec6f717"
      },
      "outputs": [
        {
          "output_type": "stream",
          "name": "stdout",
          "text": [
            "[[1 2]\n",
            " [3 4]\n",
            " [5 6]\n",
            " [7 8]]\n",
            "[[1 2 5 6]\n",
            " [3 4 7 8]]\n"
          ]
        }
      ],
      "source": [
        "import numpy as np\n",
        "arr1 = np . array ([[1 , 2] , [3 , 4]]) # Shape : (2 , 2)\n",
        "arr2 = np . array ([[5 , 6] , [7 , 8]]) # Shape : (2 , 2)\n",
        "concat_axis0 = np . concatenate (( arr1 , arr2 ) , axis =0)\n",
        "# Concatenate along axis 0 ( vertical ) Shape : (4 , 2)\n",
        "concat_axis1 = np . concatenate (( arr1 , arr2 ) , axis =1)\n",
        "# Concatenate along axis 1 ( horizontal ) Shape : (2 , 4)\n",
        "print ( concat_axis0 , concat_axis1 , sep ='\\n')"
      ]
    },
    {
      "cell_type": "markdown",
      "metadata": {
        "id": "3cTlhtAFB1dR"
      },
      "source": [
        "## Slicing and Indexing"
      ]
    },
    {
      "cell_type": "code",
      "execution_count": 58,
      "metadata": {
        "colab": {
          "base_uri": "https://localhost:8080/"
        },
        "id": "a7TllAwhB3uK",
        "outputId": "653b7b19-318b-4b1f-c8cb-7c4c866c7d6f"
      },
      "outputs": [
        {
          "output_type": "stream",
          "name": "stdout",
          "text": [
            " Basic : [1 2 3] [[3 4]\n",
            " [6 7]] [[[5]\n",
            "  [7]]]\n",
            " Step : [1 3] [[1]\n",
            " [7]] [[[1]]\n",
            "\n",
            " [[9]]]\n"
          ]
        }
      ],
      "source": [
        "import numpy as np\n",
        "# Arrays\n",
        "arr1d = np . array ([0 , 1 , 2 , 3 , 4 , 5])\n",
        "arr2d = np . array ([[0 , 1 , 2] , [3 , 4 , 5] , [6 , 7 , 8]])\n",
        "arr3d = np . array ([[[0 , 1] , [2 , 3]] , [[4 , 5] , [6 , 7]] , [[8 ,9] , [10 , 11]]])\n",
        "# Slicing examples\n",
        "print (\" Basic :\", arr1d [1:4] , arr2d [1:3 , 0:2] , arr3d [1:2 , 0:2 ,1:2])\n",
        "# Output Basic : arr1d :[1 2 3] arr2d :[[3 4] [6 7]] arr3d:[[[5] [7]]]\n",
        "print (\" Step :\", arr1d [1:5:2] , arr2d [::2 , 1::2] , arr3d [::2 ,::2 , 1::2])\n",
        "# Output : Step : [1 3] [[1] [7]] [[[1] [9]]]"
      ]
    },
    {
      "cell_type": "markdown",
      "metadata": {
        "id": "v2MgmWKNiUcv"
      },
      "source": [
        "## Array Mathematics"
      ]
    },
    {
      "cell_type": "code",
      "execution_count": 59,
      "metadata": {
        "colab": {
          "base_uri": "https://localhost:8080/"
        },
        "id": "iVXKQx25iW-z",
        "outputId": "ff8bf17c-9e7c-44a2-a8da-e1ef6018f268"
      },
      "outputs": [
        {
          "output_type": "stream",
          "name": "stdout",
          "text": [
            "Add: [5 7 9]\n",
            " Subtract : [-3 -3 -3]\n",
            " Divide : [0.25 0.4  0.5 ]\n",
            " Multiply : [ 4 10 18]\n",
            " Power : [  1  32 729]\n",
            "Exp: [ 2.71828183  7.3890561  20.08553692]\n"
          ]
        }
      ],
      "source": [
        "import numpy as np\n",
        "arr1 = np . array ([1 , 2 , 3])\n",
        "arr2 = np . array ([4 , 5 , 6])\n",
        "print (\"Add:\", np . add ( arr1 , arr2 ) ) # Output Add: [5 7 9]\n",
        "print (\" Subtract :\", np . subtract ( arr1 , arr2 ) )\n",
        "# Output Subtract : [ -3 -3 -3]\n",
        "print (\" Divide :\", np . divide ( arr1 , arr2 ) )\n",
        "# Output Divide : [0.25 0.4 0.5 ]\n",
        "print (\" Multiply :\", np . multiply ( arr1 , arr2 ) )\n",
        "# Output Multiply : [ 4 10 18]\n",
        "print (\" Power :\", np . power ( arr1 , arr2 ) )\n",
        "# Output Power : [ 1 32 729]\n",
        "print (\"Exp:\", np . exp ( arr1 ) )\n",
        "# Output Exp: [ 2.71828183 7.3890561 20.08553692]"
      ]
    },
    {
      "cell_type": "markdown",
      "metadata": {
        "id": "tye-kKVwAKFg"
      },
      "source": [
        "## Matrix Multiplications"
      ]
    },
    {
      "cell_type": "code",
      "execution_count": 60,
      "metadata": {
        "colab": {
          "base_uri": "https://localhost:8080/"
        },
        "id": "mQzonb_DANCn",
        "outputId": "55f07dca-c18a-4867-cabd-186ae0fff43e"
      },
      "outputs": [
        {
          "output_type": "stream",
          "name": "stdout",
          "text": [
            " Result with np.dot :\n",
            " [[ 58  64]\n",
            " [139 154]]\n"
          ]
        }
      ],
      "source": [
        "import numpy as np\n",
        "# Define two matrices\n",
        "A = np . array ([[1 , 2 , 3] , [4 , 5 , 6]])\n",
        "B = np . array ([[7 , 8] , [9 , 10] , [11 , 12]])\n",
        "# Matrix multiplication using np.dot\n",
        "result_dot = np . dot (A , B )\n",
        "print (\" Result with np.dot :\\n\", result_dot ) # Output shape :(2 , 2)"
      ]
    },
    {
      "cell_type": "code",
      "execution_count": 61,
      "metadata": {
        "colab": {
          "base_uri": "https://localhost:8080/"
        },
        "id": "y1w8BXFqAci4",
        "outputId": "dbb6629d-6900-4dbb-9079-4d02df1963ca"
      },
      "outputs": [
        {
          "output_type": "stream",
          "name": "stdout",
          "text": [
            " Result with @ operator :\n",
            " [[ 58  64]\n",
            " [139 154]]\n",
            " Result with np. matmul :\n",
            " [[ 58  64]\n",
            " [139 154]]\n"
          ]
        }
      ],
      "source": [
        "import numpy as np\n",
        "# Define two matrices\n",
        "A = np . array ([[1 , 2 , 3] , [4 , 5 , 6]])\n",
        "B = np . array ([[7 , 8] , [9 , 10] , [11 , 12]])\n",
        "# Matrix multiplication using @ operator\n",
        "result_at = A @ B\n",
        "print (\" Result with @ operator :\\n\", result_at ) # Outputshape : (2 , 2)\n",
        "# Matrix multiplication using np. matmul\n",
        "result_matmul = np . matmul (A , B )\n",
        "print (\" Result with np. matmul :\\n\", result_matmul ) # Outputshape : (2 , 2)"
      ]
    },
    {
      "cell_type": "markdown",
      "metadata": {
        "id": "25oKawkp_yYc"
      },
      "source": [
        "## Linear Algebra with Numpy"
      ]
    },
    {
      "cell_type": "code",
      "execution_count": 62,
      "metadata": {
        "colab": {
          "base_uri": "https://localhost:8080/"
        },
        "id": "DXaXVpQDHXoZ",
        "outputId": "7908a1f9-fff0-4beb-821a-42a92912d462"
      },
      "outputs": [
        {
          "output_type": "stream",
          "name": "stdout",
          "text": [
            " Inverse :\n",
            " [[-2.   1. ]\n",
            " [ 1.5 -0.5]]\n",
            " Determinant : -2.0000000000000004\n",
            " Frobenius Norm : 5.477225575051661\n",
            "2 - Norm ( Euclidean ): 5.477225575051661\n",
            " Solution x: [-4.   4.5]\n"
          ]
        }
      ],
      "source": [
        "import numpy as np\n",
        "A = np . array ([[1 , 2] , [3 , 4]])\n",
        "B = np . array ([5 , 6])\n",
        "print (\" Inverse :\\n\", np . linalg . inv ( A ) )\n",
        "# Output : Inverse : [[ -2. 1. ] , [ 1.5 -0.5]]\n",
        "print (\" Determinant :\", np . linalg . det ( A ) )\n",
        "# Output : Determinant : -2.0\n",
        "print (\" Frobenius Norm :\", np . linalg . norm (A , 'fro') )\n",
        "# Output : Frobenius Norm : 5.4772\n",
        "print (\"2 - Norm ( Euclidean ):\", np . linalg . norm ( A ) )\n",
        "# Outptut : 2 - Norm ( Euclidean ): 5.4772\n",
        "print (\" Solution x:\", np . linalg . solve (A , B ) )\n",
        "# Output : Solution x: [ -4. 4.5]"
      ]
    }
  ],
  "metadata": {
    "colab": {
      "provenance": []
    },
    "kernelspec": {
      "display_name": "Python 3",
      "name": "python3"
    },
    "language_info": {
      "name": "python"
    }
  },
  "nbformat": 4,
  "nbformat_minor": 0
}